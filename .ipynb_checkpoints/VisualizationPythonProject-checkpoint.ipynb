{
 "cells": [
  {
   "cell_type": "markdown",
   "metadata": {},
   "source": []
  },
  {
   "cell_type": "code",
   "execution_count": 2,
   "metadata": {},
   "outputs": [],
   "source": [
    "import pandas as pd\n",
    "import numpy as np\n",
    "import matplotlib.pyplot as plt\n",
    "import os\n"
   ]
  },
  {
   "cell_type": "code",
   "execution_count": 23,
   "metadata": {},
   "outputs": [
    {
     "name": "stdout",
     "output_type": "stream",
     "text": [
      "Total Tweets from Different Cities: 752002\n"
     ]
    }
   ],
   "source": [
    "# Reading data from CSV\n",
    "\n",
    "kunal_tweets=pd.read_csv('Kunal_Tweets.csv')\n",
    "dinesh_tweets=pd.read_csv('Dinesh_Tweets.csv')\n",
    "print(\"Total Tweets from Different Cities: %d\"%(len(kunal_tweets)+len(dinesh_tweets)))\n"
   ]
  },
  {
   "cell_type": "code",
   "execution_count": 24,
   "metadata": {},
   "outputs": [
    {
     "name": "stderr",
     "output_type": "stream",
     "text": [
      "c:\\users\\kunalverma\\appdata\\local\\programs\\python\\python36\\lib\\site-packages\\ipykernel_launcher.py:4: FutureWarning: Sorting because non-concatenation axis is not aligned. A future version\n",
      "of pandas will change to not sort by default.\n",
      "\n",
      "To accept the future behavior, pass 'sort=False'.\n",
      "\n",
      "To retain the current behavior and silence the warning, pass 'sort=True'.\n",
      "\n",
      "  after removing the cwd from sys.path.\n"
     ]
    }
   ],
   "source": [
    "# concatentaing Data\n",
    "\n",
    "frames=[kunal_tweets,dinesh_tweets]\n",
    "whole_tweet_data=pd.concat(frames,ignore_index=True)"
   ]
  },
  {
   "cell_type": "code",
   "execution_count": 25,
   "metadata": {},
   "outputs": [
    {
     "name": "stdout",
     "output_type": "stream",
     "text": [
      "   Unnamed: 0  Unnamed: 0.1  Unnamed: 0.1.1             city     country  \\\n",
      "0           0             0             0.0  Bouy-Luxembourg      France   \n",
      "1        1120             0             0.0       Leudelange  Luxembourg   \n",
      "2        1121             1             1.0       Leudelange  Luxembourg   \n",
      "3        1122             2             2.0         Strassen  Luxembourg   \n",
      "4        1124             4             4.0        Bertrange  Luxembourg   \n",
      "\n",
      "                       created_at hashtags language  likes_count  \\\n",
      "0  Fri Nov 22 14:18:11 +0000 2019       []       tr           16   \n",
      "1  Mon Nov 25 08:31:53 +0000 2019       []       de            0   \n",
      "2  Mon Nov 25 08:20:59 +0000 2019       []       de            0   \n",
      "3  Mon Nov 25 08:19:11 +0000 2019       []       tl            0   \n",
      "4  Mon Nov 25 08:05:20 +0000 2019       []       tl            1   \n",
      "\n",
      "   retweet_count             tweet_id  \\\n",
      "0              0  1197881970484826112   \n",
      "1              0  1198881981993500672   \n",
      "2              0  1198879239581425664   \n",
      "3              0  1198878788257566720   \n",
      "4              0  1198875302895783938   \n",
      "\n",
      "                                          tweet_text  \n",
      "0  Hafta sonunu rahat geçirmek için eşşek gibi ça...  \n",
      "1  @gmuecke @geraederter_dan @andreasschliep Klin...  \n",
      "2  @geraederter_dan @andreasschliep Ich mag die g...  \n",
      "3  @flabbygasted Tulog ka ate. Daming drama. Haha...  \n",
      "4  @BlueiceDC03 Makareklamo ko mura jug wa naanad...  \n",
      "\n",
      "\n",
      "(752002, 12)\n"
     ]
    }
   ],
   "source": [
    "print(whole_tweet_data.head(),end=\"\\n\\n\\n\")\n",
    "print(whole_tweet_data.shape)"
   ]
  },
  {
   "cell_type": "markdown",
   "metadata": {},
   "source": [
    "# Preprocessing Tweet Texts"
   ]
  },
  {
   "cell_type": "code",
   "execution_count": 26,
   "metadata": {},
   "outputs": [],
   "source": [
    "# Cleaning Data\n",
    "from nltk.corpus import stopwords\n",
    "from nltk.corpus import RegexpTokenizer\n",
    "from nltk.stem import WordNetLemmatizer\n",
    "from nltk.stem.porter import PorterStemmer"
   ]
  },
  {
   "cell_type": "markdown",
   "metadata": {},
   "source": [
    "### <font color='purple'> Removing Duplicate Tweets using Pandas</font>"
   ]
  },
  {
   "cell_type": "code",
   "execution_count": 27,
   "metadata": {},
   "outputs": [
    {
     "data": {
      "text/plain": [
       "711758"
      ]
     },
     "execution_count": 27,
     "metadata": {},
     "output_type": "execute_result"
    }
   ],
   "source": [
    "whole_tweet_data.drop_duplicates(subset =\"tweet_text\", keep = False, inplace = True)\n",
    "len(whole_tweet_data)"
   ]
  },
  {
   "cell_type": "markdown",
   "metadata": {},
   "source": [
    "### <font color='purple'> Removing Punctuation</font>\n"
   ]
  },
  {
   "cell_type": "code",
   "execution_count": 28,
   "metadata": {},
   "outputs": [],
   "source": [
    "import string\n",
    "def remove_punctuation(text):\n",
    "    text_without_punct=\"\".join(char for char in text if char not in string.punctuation)\n",
    "    return text_without_punct"
   ]
  },
  {
   "cell_type": "code",
   "execution_count": 29,
   "metadata": {},
   "outputs": [
    {
     "data": {
      "text/plain": [
       "0    Hafta sonunu rahat geçirmek için eşşek gibi ça...\n",
       "1    gmuecke geraederterdan andreasschliep Klingt s...\n",
       "2    geraederterdan andreasschliep Ich mag die gene...\n",
       "3      flabbygasted Tulog ka ate Daming drama Hahahaha\n",
       "4    BlueiceDC03 Makareklamo ko mura jug wa naanad ...\n",
       "Name: tweet_text, dtype: object"
      ]
     },
     "execution_count": 29,
     "metadata": {},
     "output_type": "execute_result"
    }
   ],
   "source": [
    "whole_tweet_data[\"tweet_text\"]=whole_tweet_data.tweet_text.apply(lambda x: remove_punctuation(x))\n",
    "whole_tweet_data.tweet_text.head()"
   ]
  },
  {
   "cell_type": "markdown",
   "metadata": {},
   "source": [
    "### <font color='purple'>Creating tokens out of the tweets.</font>"
   ]
  },
  {
   "cell_type": "code",
   "execution_count": 30,
   "metadata": {},
   "outputs": [
    {
     "data": {
      "text/plain": [
       "0    [hafta, sonunu, rahat, geçirmek, için, eşşek, ...\n",
       "1    [gmuecke, geraederterdan, andreasschliep, klin...\n",
       "2    [geraederterdan, andreasschliep, ich, mag, die...\n",
       "3    [flabbygasted, tulog, ka, ate, daming, drama, ...\n",
       "4    [blueicedc03, makareklamo, ko, mura, jug, wa, ...\n",
       "Name: tweet_text, dtype: object"
      ]
     },
     "execution_count": 30,
     "metadata": {},
     "output_type": "execute_result"
    }
   ],
   "source": [
    "tokenize_data=RegexpTokenizer(r'\\w+')\n",
    "whole_tweet_data['tweet_text']=whole_tweet_data.tweet_text.apply(lambda text:tokenize_data.tokenize(text.lower()))\n",
    "whole_tweet_data.tweet_text.head()"
   ]
  },
  {
   "cell_type": "markdown",
   "metadata": {},
   "source": [
    "### <font color='purple'> Removing Stop words</font>\n"
   ]
  },
  {
   "cell_type": "code",
   "execution_count": 31,
   "metadata": {},
   "outputs": [],
   "source": [
    "def remove_stop_words(tokenized_text):\n",
    "    tokenized_text=[w for w in tokenized_text if w not in stopwords.words('english')]\n",
    "    return tokenized_text"
   ]
  },
  {
   "cell_type": "code",
   "execution_count": 32,
   "metadata": {},
   "outputs": [
    {
     "data": {
      "text/html": [
       "<div>\n",
       "<style scoped>\n",
       "    .dataframe tbody tr th:only-of-type {\n",
       "        vertical-align: middle;\n",
       "    }\n",
       "\n",
       "    .dataframe tbody tr th {\n",
       "        vertical-align: top;\n",
       "    }\n",
       "\n",
       "    .dataframe thead th {\n",
       "        text-align: right;\n",
       "    }\n",
       "</style>\n",
       "<table border=\"1\" class=\"dataframe\">\n",
       "  <thead>\n",
       "    <tr style=\"text-align: right;\">\n",
       "      <th></th>\n",
       "      <th>Unnamed: 0</th>\n",
       "      <th>Unnamed: 0.1</th>\n",
       "      <th>Unnamed: 0.1.1</th>\n",
       "      <th>city</th>\n",
       "      <th>country</th>\n",
       "      <th>created_at</th>\n",
       "      <th>hashtags</th>\n",
       "      <th>language</th>\n",
       "      <th>likes_count</th>\n",
       "      <th>retweet_count</th>\n",
       "      <th>tweet_id</th>\n",
       "      <th>tweet_text</th>\n",
       "    </tr>\n",
       "  </thead>\n",
       "  <tbody>\n",
       "    <tr>\n",
       "      <th>0</th>\n",
       "      <td>0</td>\n",
       "      <td>0</td>\n",
       "      <td>0.0</td>\n",
       "      <td>Bouy-Luxembourg</td>\n",
       "      <td>France</td>\n",
       "      <td>Fri Nov 22 14:18:11 +0000 2019</td>\n",
       "      <td>[]</td>\n",
       "      <td>tr</td>\n",
       "      <td>16</td>\n",
       "      <td>0</td>\n",
       "      <td>1197881970484826112</td>\n",
       "      <td>[hafta, sonunu, rahat, geçirmek, için, eşşek, ...</td>\n",
       "    </tr>\n",
       "    <tr>\n",
       "      <th>1</th>\n",
       "      <td>1120</td>\n",
       "      <td>0</td>\n",
       "      <td>0.0</td>\n",
       "      <td>Leudelange</td>\n",
       "      <td>Luxembourg</td>\n",
       "      <td>Mon Nov 25 08:31:53 +0000 2019</td>\n",
       "      <td>[]</td>\n",
       "      <td>de</td>\n",
       "      <td>0</td>\n",
       "      <td>0</td>\n",
       "      <td>1198881981993500672</td>\n",
       "      <td>[gmuecke, geraederterdan, andreasschliep, klin...</td>\n",
       "    </tr>\n",
       "    <tr>\n",
       "      <th>2</th>\n",
       "      <td>1121</td>\n",
       "      <td>1</td>\n",
       "      <td>1.0</td>\n",
       "      <td>Leudelange</td>\n",
       "      <td>Luxembourg</td>\n",
       "      <td>Mon Nov 25 08:20:59 +0000 2019</td>\n",
       "      <td>[]</td>\n",
       "      <td>de</td>\n",
       "      <td>0</td>\n",
       "      <td>0</td>\n",
       "      <td>1198879239581425664</td>\n",
       "      <td>[geraederterdan, andreasschliep, ich, mag, die...</td>\n",
       "    </tr>\n",
       "    <tr>\n",
       "      <th>3</th>\n",
       "      <td>1122</td>\n",
       "      <td>2</td>\n",
       "      <td>2.0</td>\n",
       "      <td>Strassen</td>\n",
       "      <td>Luxembourg</td>\n",
       "      <td>Mon Nov 25 08:19:11 +0000 2019</td>\n",
       "      <td>[]</td>\n",
       "      <td>tl</td>\n",
       "      <td>0</td>\n",
       "      <td>0</td>\n",
       "      <td>1198878788257566720</td>\n",
       "      <td>[flabbygasted, tulog, ka, ate, daming, drama, ...</td>\n",
       "    </tr>\n",
       "    <tr>\n",
       "      <th>4</th>\n",
       "      <td>1124</td>\n",
       "      <td>4</td>\n",
       "      <td>4.0</td>\n",
       "      <td>Bertrange</td>\n",
       "      <td>Luxembourg</td>\n",
       "      <td>Mon Nov 25 08:05:20 +0000 2019</td>\n",
       "      <td>[]</td>\n",
       "      <td>tl</td>\n",
       "      <td>1</td>\n",
       "      <td>0</td>\n",
       "      <td>1198875302895783938</td>\n",
       "      <td>[blueicedc03, makareklamo, ko, mura, jug, wa, ...</td>\n",
       "    </tr>\n",
       "  </tbody>\n",
       "</table>\n",
       "</div>"
      ],
      "text/plain": [
       "   Unnamed: 0  Unnamed: 0.1  Unnamed: 0.1.1             city     country  \\\n",
       "0           0             0             0.0  Bouy-Luxembourg      France   \n",
       "1        1120             0             0.0       Leudelange  Luxembourg   \n",
       "2        1121             1             1.0       Leudelange  Luxembourg   \n",
       "3        1122             2             2.0         Strassen  Luxembourg   \n",
       "4        1124             4             4.0        Bertrange  Luxembourg   \n",
       "\n",
       "                       created_at hashtags language  likes_count  \\\n",
       "0  Fri Nov 22 14:18:11 +0000 2019       []       tr           16   \n",
       "1  Mon Nov 25 08:31:53 +0000 2019       []       de            0   \n",
       "2  Mon Nov 25 08:20:59 +0000 2019       []       de            0   \n",
       "3  Mon Nov 25 08:19:11 +0000 2019       []       tl            0   \n",
       "4  Mon Nov 25 08:05:20 +0000 2019       []       tl            1   \n",
       "\n",
       "   retweet_count             tweet_id  \\\n",
       "0              0  1197881970484826112   \n",
       "1              0  1198881981993500672   \n",
       "2              0  1198879239581425664   \n",
       "3              0  1198878788257566720   \n",
       "4              0  1198875302895783938   \n",
       "\n",
       "                                          tweet_text  \n",
       "0  [hafta, sonunu, rahat, geçirmek, için, eşşek, ...  \n",
       "1  [gmuecke, geraederterdan, andreasschliep, klin...  \n",
       "2  [geraederterdan, andreasschliep, ich, mag, die...  \n",
       "3  [flabbygasted, tulog, ka, ate, daming, drama, ...  \n",
       "4  [blueicedc03, makareklamo, ko, mura, jug, wa, ...  "
      ]
     },
     "execution_count": 32,
     "metadata": {},
     "output_type": "execute_result"
    }
   ],
   "source": [
    "whole_tweet_data.tweet_text=whole_tweet_data.tweet_text.apply(lambda tokenized_text:remove_stop_words(tokenized_text))\n",
    "whole_tweet_data.head()"
   ]
  },
  {
   "cell_type": "code",
   "execution_count": 33,
   "metadata": {},
   "outputs": [],
   "source": [
    "whole_tweet_data.to_csv('data_without_stop_words.csv')"
   ]
  },
  {
   "cell_type": "markdown",
   "metadata": {},
   "source": [
    "# Visualzation of the processed Data:"
   ]
  },
  {
   "cell_type": "code",
   "execution_count": 34,
   "metadata": {},
   "outputs": [
    {
     "name": "stdout",
     "output_type": "stream",
     "text": [
      "<class 'pandas.core.frame.DataFrame'>\n",
      "Int64Index: 711758 entries, 0 to 752001\n",
      "Data columns (total 12 columns):\n",
      "Unnamed: 0        711758 non-null int64\n",
      "Unnamed: 0.1      711758 non-null int64\n",
      "Unnamed: 0.1.1    269873 non-null float64\n",
      "city              711758 non-null object\n",
      "country           709637 non-null object\n",
      "created_at        711758 non-null object\n",
      "hashtags          711758 non-null object\n",
      "language          711758 non-null object\n",
      "likes_count       711758 non-null int64\n",
      "retweet_count     711758 non-null int64\n",
      "tweet_id          711758 non-null int64\n",
      "tweet_text        711758 non-null object\n",
      "dtypes: float64(1), int64(5), object(6)\n",
      "memory usage: 70.6+ MB\n"
     ]
    }
   ],
   "source": [
    "whole_tweet_data.info()"
   ]
  },
  {
   "cell_type": "code",
   "execution_count": 36,
   "metadata": {},
   "outputs": [
    {
     "name": "stdout",
     "output_type": "stream",
     "text": [
      "<class 'pandas.core.frame.DataFrame'>\n",
      "Int64Index: 711758 entries, 0 to 752001\n",
      "Data columns (total 9 columns):\n",
      "city             711758 non-null object\n",
      "country          709637 non-null object\n",
      "created_at       711758 non-null object\n",
      "hashtags         711758 non-null object\n",
      "language         711758 non-null object\n",
      "likes_count      711758 non-null int64\n",
      "retweet_count    711758 non-null int64\n",
      "tweet_id         711758 non-null int64\n",
      "tweet_text       711758 non-null object\n",
      "dtypes: int64(3), object(6)\n",
      "memory usage: 54.3+ MB\n"
     ]
    }
   ],
   "source": [
    "whole_tweet_data=whole_tweet_data.drop(['Unnamed: 0','Unnamed: 0.1','Unnamed: 0.1.1'],axis=1)\n",
    "whole_tweet_data.info()"
   ]
  },
  {
   "cell_type": "markdown",
   "metadata": {},
   "source": [
    "### <font color='purple'>Analysing Data.</font>"
   ]
  },
  {
   "cell_type": "code",
   "execution_count": 38,
   "metadata": {},
   "outputs": [
    {
     "data": {
      "text/plain": [
       "city             0.0\n",
       "country          0.0\n",
       "created_at       0.0\n",
       "hashtags         0.0\n",
       "language         0.0\n",
       "likes_count      0.0\n",
       "retweet_count    0.0\n",
       "tweet_id         0.0\n",
       "tweet_text       0.0\n",
       "dtype: float64"
      ]
     },
     "execution_count": 38,
     "metadata": {},
     "output_type": "execute_result"
    }
   ],
   "source": [
    "round((whole_tweet_data.isnull().sum())/len(whole_tweet_data),2)"
   ]
  },
  {
   "cell_type": "code",
   "execution_count": null,
   "metadata": {},
   "outputs": [],
   "source": []
  },
  {
   "cell_type": "code",
   "execution_count": 39,
   "metadata": {},
   "outputs": [
    {
     "name": "stdout",
     "output_type": "stream",
     "text": [
      "<class 'pandas.core.frame.DataFrame'>\n",
      "Int64Index: 709637 entries, 0 to 752001\n",
      "Data columns (total 9 columns):\n",
      "city             709637 non-null object\n",
      "country          709637 non-null object\n",
      "created_at       709637 non-null object\n",
      "hashtags         709637 non-null object\n",
      "language         709637 non-null object\n",
      "likes_count      709637 non-null int64\n",
      "retweet_count    709637 non-null int64\n",
      "tweet_id         709637 non-null int64\n",
      "tweet_text       709637 non-null object\n",
      "dtypes: int64(3), object(6)\n",
      "memory usage: 54.1+ MB\n"
     ]
    }
   ],
   "source": [
    "whole_tweet_data=whole_tweet_data[whole_tweet_data['country'].notnull()]\n",
    "whole_tweet_data.info()"
   ]
  },
  {
   "cell_type": "code",
   "execution_count": 40,
   "metadata": {},
   "outputs": [
    {
     "data": {
      "text/plain": [
       "city             0.0\n",
       "country          0.0\n",
       "created_at       0.0\n",
       "hashtags         0.0\n",
       "language         0.0\n",
       "likes_count      0.0\n",
       "retweet_count    0.0\n",
       "tweet_id         0.0\n",
       "tweet_text       0.0\n",
       "dtype: float64"
      ]
     },
     "execution_count": 40,
     "metadata": {},
     "output_type": "execute_result"
    }
   ],
   "source": [
    "round((whole_tweet_data.isnull().sum())/len(whole_tweet_data),2)"
   ]
  },
  {
   "cell_type": "code",
   "execution_count": 101,
   "metadata": {},
   "outputs": [
    {
     "data": {
      "text/html": [
       "<div>\n",
       "<style scoped>\n",
       "    .dataframe tbody tr th:only-of-type {\n",
       "        vertical-align: middle;\n",
       "    }\n",
       "\n",
       "    .dataframe tbody tr th {\n",
       "        vertical-align: top;\n",
       "    }\n",
       "\n",
       "    .dataframe thead th {\n",
       "        text-align: right;\n",
       "    }\n",
       "</style>\n",
       "<table border=\"1\" class=\"dataframe\">\n",
       "  <thead>\n",
       "    <tr style=\"text-align: right;\">\n",
       "      <th></th>\n",
       "      <th>city</th>\n",
       "      <th>country</th>\n",
       "      <th>created_at</th>\n",
       "      <th>hashtags</th>\n",
       "      <th>language</th>\n",
       "      <th>likes_count</th>\n",
       "      <th>retweet_count</th>\n",
       "      <th>tweet_id</th>\n",
       "      <th>tweet_text</th>\n",
       "      <th>Dates_sliced</th>\n",
       "    </tr>\n",
       "  </thead>\n",
       "  <tbody>\n",
       "    <tr>\n",
       "      <th>0</th>\n",
       "      <td>Bouy-Luxembourg</td>\n",
       "      <td>France</td>\n",
       "      <td>Fri Nov 22 14:18:11 +0000 2019</td>\n",
       "      <td>[]</td>\n",
       "      <td>tr</td>\n",
       "      <td>16</td>\n",
       "      <td>0</td>\n",
       "      <td>1197881970484826112</td>\n",
       "      <td>[hafta, sonunu, rahat, geçirmek, için, eşşek, ...</td>\n",
       "      <td>Fri Nov 22</td>\n",
       "    </tr>\n",
       "    <tr>\n",
       "      <th>1</th>\n",
       "      <td>Leudelange</td>\n",
       "      <td>Luxembourg</td>\n",
       "      <td>Mon Nov 25 08:31:53 +0000 2019</td>\n",
       "      <td>[]</td>\n",
       "      <td>de</td>\n",
       "      <td>0</td>\n",
       "      <td>0</td>\n",
       "      <td>1198881981993500672</td>\n",
       "      <td>[gmuecke, geraederterdan, andreasschliep, klin...</td>\n",
       "      <td>Mon Nov 25</td>\n",
       "    </tr>\n",
       "    <tr>\n",
       "      <th>2</th>\n",
       "      <td>Leudelange</td>\n",
       "      <td>Luxembourg</td>\n",
       "      <td>Mon Nov 25 08:20:59 +0000 2019</td>\n",
       "      <td>[]</td>\n",
       "      <td>de</td>\n",
       "      <td>0</td>\n",
       "      <td>0</td>\n",
       "      <td>1198879239581425664</td>\n",
       "      <td>[geraederterdan, andreasschliep, ich, mag, die...</td>\n",
       "      <td>Mon Nov 25</td>\n",
       "    </tr>\n",
       "    <tr>\n",
       "      <th>3</th>\n",
       "      <td>Strassen</td>\n",
       "      <td>Luxembourg</td>\n",
       "      <td>Mon Nov 25 08:19:11 +0000 2019</td>\n",
       "      <td>[]</td>\n",
       "      <td>tl</td>\n",
       "      <td>0</td>\n",
       "      <td>0</td>\n",
       "      <td>1198878788257566720</td>\n",
       "      <td>[flabbygasted, tulog, ka, ate, daming, drama, ...</td>\n",
       "      <td>Mon Nov 25</td>\n",
       "    </tr>\n",
       "    <tr>\n",
       "      <th>4</th>\n",
       "      <td>Bertrange</td>\n",
       "      <td>Luxembourg</td>\n",
       "      <td>Mon Nov 25 08:05:20 +0000 2019</td>\n",
       "      <td>[]</td>\n",
       "      <td>tl</td>\n",
       "      <td>1</td>\n",
       "      <td>0</td>\n",
       "      <td>1198875302895783938</td>\n",
       "      <td>[blueicedc03, makareklamo, ko, mura, jug, wa, ...</td>\n",
       "      <td>Mon Nov 25</td>\n",
       "    </tr>\n",
       "  </tbody>\n",
       "</table>\n",
       "</div>"
      ],
      "text/plain": [
       "              city     country                      created_at hashtags  \\\n",
       "0  Bouy-Luxembourg      France  Fri Nov 22 14:18:11 +0000 2019       []   \n",
       "1       Leudelange  Luxembourg  Mon Nov 25 08:31:53 +0000 2019       []   \n",
       "2       Leudelange  Luxembourg  Mon Nov 25 08:20:59 +0000 2019       []   \n",
       "3         Strassen  Luxembourg  Mon Nov 25 08:19:11 +0000 2019       []   \n",
       "4        Bertrange  Luxembourg  Mon Nov 25 08:05:20 +0000 2019       []   \n",
       "\n",
       "  language  likes_count  retweet_count             tweet_id  \\\n",
       "0       tr           16              0  1197881970484826112   \n",
       "1       de            0              0  1198881981993500672   \n",
       "2       de            0              0  1198879239581425664   \n",
       "3       tl            0              0  1198878788257566720   \n",
       "4       tl            1              0  1198875302895783938   \n",
       "\n",
       "                                          tweet_text Dates_sliced  \n",
       "0  [hafta, sonunu, rahat, geçirmek, için, eşşek, ...   Fri Nov 22  \n",
       "1  [gmuecke, geraederterdan, andreasschliep, klin...   Mon Nov 25  \n",
       "2  [geraederterdan, andreasschliep, ich, mag, die...   Mon Nov 25  \n",
       "3  [flabbygasted, tulog, ka, ate, daming, drama, ...   Mon Nov 25  \n",
       "4  [blueicedc03, makareklamo, ko, mura, jug, wa, ...   Mon Nov 25  "
      ]
     },
     "execution_count": 101,
     "metadata": {},
     "output_type": "execute_result"
    }
   ],
   "source": [
    "dates=whole_tweet_data.created_at.str.slice(0,10,1)\n",
    "# print(type(dates))\n",
    "# print(dates[:10])\n",
    "sliced_dates=pd.DataFrame(np.array(dates),columns=['Dates_sliced'])\n",
    "# print(sliced_dates)\n",
    "# print(sliced_dates)\n",
    "whole_tweet_data=whole_tweet_data.join(sliced_dates)\n",
    "# # whole_tweet_data=whole_tweet_data.drop(['Dates_sliced'],axis=1)\n",
    "# # whole_tweet_data\n",
    "whole_tweet_data.head()"
   ]
  },
  {
   "cell_type": "markdown",
   "metadata": {},
   "source": [
    "### Number of Tweets/Day"
   ]
  },
  {
   "cell_type": "code",
   "execution_count": 113,
   "metadata": {},
   "outputs": [
    {
     "data": {
      "image/png": "[encoded data removed]",
      "text/plain": [
       "<Figure size 576x576 with 1 Axes>"
      ]
     },
     "metadata": {},
     "output_type": "display_data"
    }
   ],
   "source": [
    "Day_group=whole_tweet_data.groupby(whole_tweet_data['Dates_sliced'])\n",
    "unique_dates=whole_tweet_data.Dates_sliced.unique()\n",
    "# print(unique_dates[0:-1])\n",
    "number_of_tweets_per_day=[]\n",
    "# print(day)\n",
    "for day in unique_dates[0:-1]:\n",
    "    number_of_tweets_per_day.append(len(Day_group.get_group(day)))\n",
    "# print(len(number_of_tweets_per_day))\n",
    "# print(len(unique_dates[0:-1]))\n",
    "unique_dates=unique_dates[0:-1]\n",
    "index=np.arange(len(unique_dates))\n",
    "plt.figure(figsize=(8,8))\n",
    "plt.style.use('seaborn')\n",
    "plt.bar(index, number_of_tweets_per_day,label=\"Tweets per Day\")\n",
    "plt.xlabel('Date', fontsize=9)\n",
    "plt.ylabel('Number Of Tweets', fontsize=9)\n",
    "plt.xticks(index, unique_dates, fontsize=9, rotation='vertical')\n",
    "plt.title('Distribution of Tweets per day')\n",
    "plt.legend()\n",
    "plt.show()"
   ]
  },
  {
   "cell_type": "markdown",
   "metadata": {},
   "source": [
    "### Language Distribution"
   ]
  },
  {
   "cell_type": "code",
   "execution_count": 115,
   "metadata": {},
   "outputs": [
    {
     "data": {
      "text/plain": [
       "55"
      ]
     },
     "execution_count": 115,
     "metadata": {},
     "output_type": "execute_result"
    }
   ],
   "source": [
    "language_group=whole_tweet_data.groupby(whole_tweet_data[\"language\"])\n",
    "languages=whole_tweet_data.language.unique()\n",
    "len(languages)"
   ]
  },
  {
   "cell_type": "code",
   "execution_count": 133,
   "metadata": {},
   "outputs": [
    {
     "data": {
      "image/png": "[encoded data removed]",
      "text/plain": [
       "<Figure size 1080x576 with 1 Axes>"
      ]
     },
     "metadata": {},
     "output_type": "display_data"
    }
   ],
   "source": [
    "from matplotlib.pyplot import figure\n",
    "number_of_tweets_in_each_language=[]\n",
    "for l in languages:\n",
    "    number_of_tweets_in_each_language.append((l,len(language_group.get_group(l))))\n",
    "#print(number_of_tweets_in_each_language)\n",
    "import operator\n",
    "number_of_tweets_in_each_language.sort(key=lambda x: x[1], reverse=True)\n",
    "for i in range(0,len(number_of_tweets_in_each_language)):\n",
    "    languages[i]=number_of_tweets_in_each_language[i][0]\n",
    "    number_of_tweets_in_each_language[i]=number_of_tweets_in_each_language[i][1]\n",
    "    \n",
    "    \n",
    "index=np.arange(len(languages))\n",
    "plt.figure(figsize=(15,8))\n",
    "plt.style.use('seaborn')\n",
    "plt.bar(index, number_of_tweets_in_each_language,label=\"Tweets in Each Language\")\n",
    "plt.xlabel('Language of the Tweet', fontsize=9)\n",
    "plt.ylabel('Number Of Tweets', fontsize=9)\n",
    "plt.xticks(index, languages, fontsize=15, rotation='vertical')\n",
    "plt.title('Distribution of Tweets')\n",
    "plt.legend()\n",
    "plt.show()"
   ]
  },
  {
   "cell_type": "markdown",
   "metadata": {},
   "source": [
    "### Polarity Analysis"
   ]
  },
  {
   "cell_type": "code",
   "execution_count": 170,
   "metadata": {},
   "outputs": [],
   "source": [
    "from textblob import TextBlob"
   ]
  },
  {
   "cell_type": "code",
   "execution_count": 167,
   "metadata": {},
   "outputs": [
    {
     "name": "stderr",
     "output_type": "stream",
     "text": [
      "c:\\users\\kunalverma\\appdata\\local\\programs\\python\\python36\\lib\\site-packages\\ipykernel_launcher.py:8: FutureWarning: Sorting because non-concatenation axis is not aligned. A future version\n",
      "of pandas will change to not sort by default.\n",
      "\n",
      "To accept the future behavior, pass 'sort=False'.\n",
      "\n",
      "To retain the current behavior and silence the warning, pass 'sort=True'.\n",
      "\n",
      "  \n"
     ]
    },
    {
     "name": "stdout",
     "output_type": "stream",
     "text": [
      "0.0\n"
     ]
    }
   ],
   "source": [
    "result1=[]\n",
    "num=1\n",
    "numlist=[]\n",
    "\n",
    "# temp= whole_tweet_data[whole_tweet_data['language']=='en']\n",
    "\n",
    "new_frames=[kunal_tweets,dinesh_tweets]\n",
    "new_whole_tweet_data=pd.concat(new_frames,ignore_index=True)   \n",
    "new_whole_tweet_data=new_whole_tweet_data[new_whole_tweet_data.language==\"en\"]\n",
    "english_tweets = np.array(new_whole_tweet_data.tweet_text[:])\n",
    "english_tweets\n",
    "# print(new_whole_tweet_data.head(n=5))\n",
    "# print(len(temp))\n",
    "# ll=\" \".join(np.array(temp.tweet_text[0]))\n",
    "# print(ll)\n",
    "analaysis=TextBlob(english_tweets[8])\n",
    "\n",
    "print(analysis.polarity)\n",
    "\n",
    "# for tweet in temp.tweet_text:\n",
    "#     ll=\"\"\n",
    "#     l1=\" \".join(tweet)\n",
    "        \n",
    "#     analysis=TextBlob(ll)\n",
    "#     result1.append(analysis.polarity)\n",
    "#     numlist.append(num)\n",
    "#     num=num+1\n",
    "# result1=np.array(result1)\n",
    "\n",
    "# plt.style.use('seaborn')\n",
    "# plt.scatter(numlist,result1,label='Polarity')\n",
    "# plt.xlabel('Reviews')\n",
    "# plt.ylabel('Polarity')\n",
    "# plt.legend()\n"
   ]
  },
  {
   "cell_type": "code",
   "execution_count": 175,
   "metadata": {},
   "outputs": [
    {
     "data": {
      "text/plain": [
       "<matplotlib.legend.Legend at 0x13d194d7a90>"
      ]
     },
     "execution_count": 175,
     "metadata": {},
     "output_type": "execute_result"
    },
    {
     "data": {
      "image/png": "[encoded data removed]",
      "text/plain": [
       "<Figure size 576x396 with 1 Axes>"
      ]
     },
     "metadata": {},
     "output_type": "display_data"
    }
   ],
   "source": [
    "from textblob.sentiments import PatternAnalyzer\n",
    "sentiment_analyzer=PatternAnalyzer()\n",
    "# sentiment_analyzer.analyze(\"Very bad\")[0]\n",
    "# result1=[]\n",
    "# num=1\n",
    "# numlist=[]\n",
    "\n",
    "# # temp= whole_tweet_data[whole_tweet_data['language']=='en']\n",
    "\n",
    "# new_frames=[kunal_tweets,dinesh_tweets]\n",
    "# new_whole_tweet_data=pd.concat(new_frames,ignore_index=True)   \n",
    "# new_whole_tweet_data=new_whole_tweet_data[new_whole_tweet_data.language==\"en\"]\n",
    "# english_tweets = np.array(new_whole_tweet_data.tweet_text[:])\n",
    "# english_tweets\n",
    "# # print(new_whole_tweet_data.head(n=5))\n",
    "# # print(len(temp))\n",
    "# # ll=\" \".join(np.array(temp.tweet_text[0]))\n",
    "# # print(ll)\n",
    "# analaysis=TextBlob(\"Wheather is very bad and not good\")\n",
    "\n",
    "# print(analysis.polarity)\n",
    "\n",
    "for tweet in temp.tweet_text:\n",
    "    ll=\"\"\n",
    "    l1=\" \".join(tweet)\n",
    "    result1.append(sentiment_analyzer.analyze(l1)[0])\n",
    "    numlist.append(num)\n",
    "    num=num+1\n",
    "result1=np.array(result1)\n",
    "\n",
    "plt.style.use('seaborn')\n",
    "plt.scatter(numlist,result1,label='Polarity')\n",
    "plt.xlabel('Reviews')\n",
    "plt.ylabel('Polarity')\n",
    "plt.legend()\n"
   ]
  },
  {
   "cell_type": "code",
   "execution_count": null,
   "metadata": {},
   "outputs": [],
   "source": []
  },
  {
   "cell_type": "code",
   "execution_count": null,
   "metadata": {},
   "outputs": [],
   "source": []
  }
 ],
 "metadata": {
  "kernelspec": {
   "display_name": "Python 3",
   "language": "python",
   "name": "python3"
  },
  "language_info": {
   "codemirror_mode": {
    "name": "ipython",
    "version": 3
   },
   "file_extension": ".py",
   "mimetype": "text/x-python",
   "name": "python",
   "nbconvert_exporter": "python",
   "pygments_lexer": "ipython3",
   "version": "3.6.7"
  }
 },
 "nbformat": 4,
 "nbformat_minor": 2
}
