{
 "cells": [
  {
   "cell_type": "code",
   "execution_count": 1,
   "metadata": {},
   "outputs": [
    {
     "name": "stderr",
     "output_type": "stream",
     "text": [
      "c:\\users\\kunalverma\\appdata\\local\\programs\\python\\python36\\lib\\site-packages\\IPython\\core\\interactiveshell.py:3020: DtypeWarning: Columns (1,5,6) have mixed types. Specify dtype option on import or set low_memory=False.\n",
      "  interactivity=interactivity, compiler=compiler, result=result)\n"
     ]
    }
   ],
   "source": [
    "import pandas as pd\n",
    "import numpy as np\n",
    "import matplotlib.pyplot as plt\n",
    "import os\n",
    "\n",
    "prateek_tweets=pd.read_csv(\"Prateek_Tweets.csv\")\n",
    "from nltk.corpus import stopwords\n",
    "from nltk.corpus import RegexpTokenizer\n",
    "from nltk.stem import WordNetLemmatizer\n",
    "from nltk.stem.porter import PorterStemmer\n",
    "prateek_tweets.drop_duplicates(subset =\"tweet_text\", keep = False, inplace = True)\n",
    "len(prateek_tweets)\n",
    "\n",
    "import string\n",
    "def remove_punctuation(text):\n",
    "    text_without_punct=\"\".join(char for char in text if char not in string.punctuation)\n",
    "    return text_without_punct\n",
    "\n",
    "prateek_tweets[\"tweet_text\"]=prateek_tweets.tweet_text.apply(lambda x: remove_punctuation(x))\n",
    "prateek_tweets.tweet_text.head()\n",
    "\n",
    "tokenize_data=RegexpTokenizer(r'\\w+')\n",
    "prateek_tweets['tweet_text']=prateek_tweets.tweet_text.apply(lambda text:tokenize_data.tokenize(text.lower()))\n",
    "prateek_tweets.tweet_text.head()\n",
    "\n",
    "def remove_stop_words(tokenized_text):\n",
    "    tokenized_text=[w for w in tokenized_text if w not in stopwords.words('english')]\n",
    "    return tokenized_text\n",
    "\n",
    "prateek_tweets.tweet_text=prateek_tweets.tweet_text.apply(lambda tokenized_text:remove_stop_words(tokenized_text))\n",
    "prateek_tweets.head()\n",
    "\n",
    "prateek_tweets.to_csv('prateeks_data_without_stop_words.csv')"
   ]
  }
 ],
 "metadata": {
  "kernelspec": {
   "display_name": "Python 3",
   "language": "python",
   "name": "python3"
  },
  "language_info": {
   "codemirror_mode": {
    "name": "ipython",
    "version": 3
   },
   "file_extension": ".py",
   "mimetype": "text/x-python",
   "name": "python",
   "nbconvert_exporter": "python",
   "pygments_lexer": "ipython3",
   "version": "3.6.7"
  }
 },
 "nbformat": 4,
 "nbformat_minor": 2
}
